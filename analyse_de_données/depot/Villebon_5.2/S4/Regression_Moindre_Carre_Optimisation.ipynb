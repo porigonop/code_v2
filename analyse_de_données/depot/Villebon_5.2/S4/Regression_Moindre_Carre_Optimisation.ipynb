{
 "cells": [
  {
   "cell_type": "code",
   "execution_count": 1,
   "metadata": {
    "collapsed": false
   },
   "outputs": [],
   "source": [
    "import numpy as np\n",
    "import matplotlib.pyplot as plt\n",
    "%matplotlib inline"
   ]
  },
  {
   "cell_type": "markdown",
   "metadata": {},
   "source": [
    "## Méthode des moindres carrés\n",
    "\n",
    "Afin de fixer les coefficients, nous définissons une mesure qui nous permet de connaître de façon empirique la qualité de l'ajustement.\n",
    "\n",
    "\n",
    "Quelques constats :\n",
    "1. Aucune droite ne peut passer par tous les points, vu qu'ils ne sont pas alignés\n",
    "1. Chaque droite passe plus près de certains que d'autres\n",
    "1. Nous décrétons pour le moment que la meilleure droite est celle qui passe le plus près de l'ensemble des points\n",
    "\n",
    "Pour chaque x, nous allons calculer la distance cumulée entre $y_i$ projeté sur la droite à l'abscisse $x_i$, et minimiser cette quantité\n",
    "\n",
    "$$Erreur(\\theta) = \\frac{1}{N}\\sum_i (y_i-f_{\\theta}(x_i))^2$$\n",
    "\n",
    "* Les erreurs s'ajoutent toujours\n",
    "* Pénalité sur les déviations les plus larges\n",
    "* La fonction carré est dérivable\n",
    "\n",
    "Nous souhaitons $\\hat \\theta$ tq $Erreur(\\theta) \\ge Erreur(\\hat \\theta)$"
   ]
  },
  {
   "cell_type": "markdown",
   "metadata": {},
   "source": [
    "#### Résolution mathématique\n",
    "\n",
    "Nous souhaitons minimiser le terme d'erreur, et donc trouver pour quelles valeurs de $\\theta$ la dérivée s'annule\n",
    "$$\\frac{\\partial E}{\\partial \\theta_i} = 0$$\n",
    "\n",
    "pour la fonction $f_{\\theta}(x) = \\theta_0 + \\theta_1 x +\\epsilon $\n",
    "\n",
    "On obtient les équations suivantes pour les paramètres (un très bon exercice à faire) \n",
    "\n",
    "$$\\sum_i x_i (y_i-\\theta_0-\\theta_1 x_i) = 0  $$\n",
    "$$\\sum_i (y_i-\\theta_0-\\theta_1 x_i) = 0  $$\n",
    "\n",
    "\n",
    "Il est possible dans le cadre de ce modèle d'avoir la solution exacte :\n",
    "\n",
    "$$\\hat  \\theta_1 = \\frac{\\sum(x_i-\\bar x)(y_i-\\bar y)}{\\sum (x_i - \\bar x)^2} = \\frac{cov(x,y)}{var(x)}$$\n",
    "$$\\hat \\theta_0 = \\bar y - \\hat \\theta_1 \\bar x$$\n"
   ]
  },
  {
   "cell_type": "markdown",
   "metadata": {},
   "source": [
    "#### Commençons par définir quelques fonctions"
   ]
  },
  {
   "cell_type": "code",
   "execution_count": 26,
   "metadata": {
    "collapsed": true
   },
   "outputs": [],
   "source": [
    "def linear(x, params=(0,1)):\n",
    "    \"\"\"Generate a linear function f(x)=a*x+b+N(0,1)\n",
    "    \n",
    "    Args:\n",
    "        x (numpy.array()) : vector used to generate the output\n",
    "        params (tuple of size 2) : b=params[0] and a=params[1]\n",
    "    \n",
    "    Returns:\n",
    "        numpy.array()\n",
    "    \"\"\"\n",
    "    pass"
   ]
  },
  {
   "cell_type": "code",
   "execution_count": 27,
   "metadata": {
    "collapsed": false
   },
   "outputs": [],
   "source": [
    "x = 10*np.random.random(50)\n",
    "y = linear(x, (1,3))"
   ]
  },
  {
   "cell_type": "code",
   "execution_count": 4,
   "metadata": {
    "collapsed": true
   },
   "outputs": [],
   "source": [
    "def linear_hypothesis(x, params=(0,1)):\n",
    "    \"\"\"Linear function f(x)=a*x+b\n",
    "    \n",
    "    Args:\n",
    "        x (numpy.array()) : vector used to generate the output\n",
    "        params (tuple of size 2) : b=params[0] and a=params[1]\n",
    "    \n",
    "    Returns:\n",
    "        numpy.array()\n",
    "    \"\"\"\n",
    "    pass"
   ]
  },
  {
   "cell_type": "code",
   "execution_count": 5,
   "metadata": {
    "collapsed": true
   },
   "outputs": [],
   "source": [
    "def cost(x, y, func, func_args):\n",
    "    \"\"\"Cost function associated with (x,y) couple and function to fit\n",
    "    \n",
    "    Args:\n",
    "        x : feature vector \n",
    "        y : explained variable\n",
    "        func : target function\n",
    "        func_args : arguments of function\n",
    "        \n",
    "    Returns:\n",
    "        scalar value of cost\n",
    "    \"\"\"\n",
    "    pass"
   ]
  },
  {
   "cell_type": "code",
   "execution_count": null,
   "metadata": {
    "collapsed": false
   },
   "outputs": [],
   "source": [
    "cost(x,y,linear_hypothesis, (5,10))"
   ]
  },
  {
   "cell_type": "code",
   "execution_count": null,
   "metadata": {
    "collapsed": false
   },
   "outputs": [],
   "source": [
    "cost(x,y,linear_hypothesis, (0,1))"
   ]
  },
  {
   "cell_type": "markdown",
   "metadata": {},
   "source": [
    "Cette fonction n'est pas la plus générale que l'on puisse écrire. Elle suppose en effet que la fonction cible ne prend qu'un seul argument. Il existe des façons en python de définir des fonctions qui prennent un nombre quelconque d'argument. Vous pouvez voir ici par exemple pour un exemple simple et explicite : http://stackoverflow.com/questions/36901/what-does-double-star-and-star-do-for-python-parameters"
   ]
  },
  {
   "cell_type": "markdown",
   "metadata": {},
   "source": [
    "#### Recherche exhaustive"
   ]
  },
  {
   "cell_type": "code",
   "execution_count": 6,
   "metadata": {
    "collapsed": false
   },
   "outputs": [
    {
     "name": "stdout",
     "output_type": "stream",
     "text": [
      "Paramètres optimisant les moindres carrés : (2.0408163265306123, 2.8571428571428572)\n"
     ]
    },
    {
     "data": {
      "image/png": "[encoded data removed]",
      "text/plain": [
       "<matplotlib.figure.Figure at 0x7fb25194c4d0>"
      ]
     },
     "metadata": {},
     "output_type": "display_data"
    }
   ],
   "source": [
    "def params_search():\n",
    "    \"\"\"2d scan for possible values and return best ones\n",
    "    \"\"\"\n",
    "    errors = []\n",
    "    params = []\n",
    "    for p0 in np.linspace(0,10):\n",
    "        for p1 in np.linspace(0,10):\n",
    "            p = (p0,p1)\n",
    "            c = cost(x, y, linear_hypothesis, p)\n",
    "            errors.append(c)\n",
    "            params.append(p)\n",
    "    return params[errors.index(min(errors))]\n",
    "\n",
    "best = params_search()\n",
    "print \"Paramètres optimisant les moindres carrés :\", best\n",
    "plt.scatter(x,y)\n",
    "plt.plot(x,best[0]+best[1]*x)\n",
    "plt.show()"
   ]
  },
  {
   "cell_type": "markdown",
   "metadata": {},
   "source": [
    "#### Recherche aléatoire de paramètres"
   ]
  },
  {
   "cell_type": "code",
   "execution_count": 9,
   "metadata": {
    "collapsed": false
   },
   "outputs": [
    {
     "name": "stdout",
     "output_type": "stream",
     "text": [
      "Paramètres optimisant les moindres carrés : (1.9747584670694274, 2.8842798220363495)\n"
     ]
    },
    {
     "data": {
      "image/png": "[encoded data removed]",
      "text/plain": [
       "<matplotlib.figure.Figure at 0x7fb25171fd50>"
      ]
     },
     "metadata": {},
     "output_type": "display_data"
    }
   ],
   "source": [
    "def random_params_search():\n",
    "    errors = []\n",
    "    params = []\n",
    "    #choix arbitraire de recherche entre 0 et 5\n",
    "    for p in 5*np.random.rand(100,2):\n",
    "        p = tuple(p) \n",
    "        c = cost(x,y, linear, p)\n",
    "        errors.append(c)\n",
    "        params.append(p)\n",
    "    return params[errors.index(min(errors))]\n",
    "\n",
    "best = random_params_search()\n",
    "print \"Paramètres optimisant les moindres carrés :\", best\n",
    "plt.scatter(x,y)\n",
    "plt.plot(x,best[0]+best[1]*x)\n",
    "plt.show()"
   ]
  },
  {
   "cell_type": "markdown",
   "metadata": {},
   "source": [
    "On peut chercher longtemps, surtout si l'on n'a pas une bonne idée des valeurs des paramètres que l'on cherche.\n",
    "\n",
    "Les problèmes de recherche d'optimum et de racines de fonction sont particulièrement courants. De nombreuses méthodes existent, qui dépassent le cadre de ce cours."
   ]
  },
  {
   "cell_type": "markdown",
   "metadata": {},
   "source": [
    "## Descente de gradient\n",
    "\n",
    "On démarre avec des paramètres $\\theta_i$ aléatoires.\n",
    "\n",
    "Plutôt que de tester de nouvelles combinaisons au hasard, nous allons mettre à jour les valeurs que nous avons en ajoutant ou soustrayant une certaine quantité dans la direction qui minimise l'erreur.\n",
    "\n",
    "$\\theta_{i+1} = \\theta_i + \\delta$\n",
    "\n",
    "Si Erreur croît, alors sa dérivée est positive, et si elle décroit, alors elle est négative. Nous voulons donc aller dans la direction des dérivées décroissantes.\n",
    "\n",
    "$$\\delta \\propto -\\frac{\\partial E}{\\partial \\theta_i}$$\n",
    "<img src=\"img/2000px-Gradient_descent.svg.png\" width=\"500\">\n",
    "\n",
    "Le gradient vient de la forme vectorielle.\n"
   ]
  },
  {
   "cell_type": "code",
   "execution_count": 10,
   "metadata": {
    "collapsed": true
   },
   "outputs": [],
   "source": [
    "def gradient_descent(x, y, params, alpha=0.00001, iterations=1000):\n",
    "    params = list(params)\n",
    "    N=len(y)\n",
    "    error_history = np.array([]).reshape(0,3)\n",
    "    \n",
    "    for i in range(iterations):\n",
    "        params[0] = params[0]-(alpha/N)*sum(linear_hypothesis(x,params)-y)\n",
    "        params[1] = params[1]-(alpha/N)*(linear_hypothesis(x,params)-y).dot(x)\n",
    "        error_history = np.vstack([error_history,[cost(x,y, linear, tuple(params)), params[0], params[1]]])\n",
    "\n",
    "    return params, error_history\n",
    "\n",
    "    "
   ]
  },
  {
   "cell_type": "code",
   "execution_count": 20,
   "metadata": {
    "collapsed": false
   },
   "outputs": [
    {
     "name": "stdout",
     "output_type": "stream",
     "text": [
      "[nan, nan]\n"
     ]
    },
    {
     "name": "stderr",
     "output_type": "stream",
     "text": [
      "/home/a-d-mine/anaconda/lib/python2.7/site-packages/IPython/kernel/__main__.py:13: RuntimeWarning: overflow encountered in double_scalars\n",
      "/home/a-d-mine/anaconda/lib/python2.7/site-packages/IPython/kernel/__main__.py:13: RuntimeWarning: overflow encountered in square\n",
      "/home/a-d-mine/anaconda/lib/python2.7/site-packages/IPython/kernel/__main__.py:12: RuntimeWarning: invalid value encountered in add\n"
     ]
    }
   ],
   "source": [
    "p, error_history = gradient_descent(x, y, (5,10), alpha=0.1, iterations=10000)\n",
    "print p"
   ]
  },
  {
   "cell_type": "markdown",
   "metadata": {},
   "source": [
    "Vérifions maintenant notre regression, l'évolution de l'erreur ainsi que des paramètres pendant la descente."
   ]
  },
  {
   "cell_type": "code",
   "execution_count": 19,
   "metadata": {
    "collapsed": false
   },
   "outputs": [
    {
     "data": {
      "image/png": "[encoded data removed]",
      "text/plain": [
       "<matplotlib.figure.Figure at 0x7fb25110c890>"
      ]
     },
     "metadata": {},
     "output_type": "display_data"
    },
    {
     "data": {
      "image/png": "[encoded data removed]",
      "text/plain": [
       "<matplotlib.figure.Figure at 0x7fb2517bf550>"
      ]
     },
     "metadata": {},
     "output_type": "display_data"
    },
    {
     "data": {
      "image/png": "[encoded data removed]",
      "text/plain": [
       "<matplotlib.figure.Figure at 0x7fb2516116d0>"
      ]
     },
     "metadata": {},
     "output_type": "display_data"
    }
   ],
   "source": [
    "plt.scatter(x,y)\n",
    "plt.plot(x,p[0]+p[1]*x)\n",
    "plt.figure()\n",
    "#plt.ylim(ymax)\n",
    "plt.plot(np.arange(len(error_history)), error_history[:,0])\n",
    "plt.title(\"Erreur\")\n",
    "plt.figure()\n",
    "plt.plot(error_history[:,1], error_history[:,2])\n",
    "plt.title(\"Parametres\")\n",
    "plt.xlabel(\"b\")\n",
    "plt.ylabel(\"a\")\n",
    "plt.show()"
   ]
  },
  {
   "cell_type": "markdown",
   "metadata": {},
   "source": [
    "Quelle différence y'a-t-il dans les résultats entre `alpha=0.01` et `alpha=0.001` ?   \n",
    "Comment peut-on améliorer notre code ?"
   ]
  },
  {
   "cell_type": "markdown",
   "metadata": {},
   "source": [
    "-----"
   ]
  },
  {
   "cell_type": "markdown",
   "metadata": {},
   "source": [
    "On peut également utiliser les bibliothèques disponibles sous python.\n",
    "\n",
    "Par exemple avec scipy :"
   ]
  },
  {
   "cell_type": "code",
   "execution_count": 21,
   "metadata": {
    "collapsed": false
   },
   "outputs": [],
   "source": [
    "from scipy.optimize import curve_fit\n",
    "def func(x, a, b):\n",
    "    return a*x + b\n",
    "\n",
    "popt, pcov = curve_fit(func, x, y)"
   ]
  },
  {
   "cell_type": "code",
   "execution_count": 22,
   "metadata": {
    "collapsed": false
   },
   "outputs": [
    {
     "data": {
      "text/plain": [
       "array([ 2.8695823 ,  2.06184437])"
      ]
     },
     "execution_count": 22,
     "metadata": {},
     "output_type": "execute_result"
    }
   ],
   "source": [
    "popt"
   ]
  },
  {
   "cell_type": "markdown",
   "metadata": {},
   "source": [
    "Mais il existe également une fonction spécifique pour la regression linéaire."
   ]
  },
  {
   "cell_type": "code",
   "execution_count": 28,
   "metadata": {
    "collapsed": false
   },
   "outputs": [
    {
     "name": "stdout",
     "output_type": "stream",
     "text": [
      "-0.453265681274 19.4762288556\n"
     ]
    }
   ],
   "source": [
    "from scipy import stats\n",
    "slope, intercept, r_value, p_value, std_err = stats.linregress(x,y)\n",
    "\n",
    "print slope, intercept"
   ]
  },
  {
   "cell_type": "markdown",
   "metadata": {},
   "source": [
    "Cette fonction renvoie notamment le coefficient de détermination\n",
    "\n",
    "$$R^2 = 1-\\frac{\\sum_i ( y_i - \\hat y_i )^2}{\\sum_i (y_i - \\bar y_i )^2}$$\n",
    "\n",
    "qui varie entre 0 et 1, et donne une indication sur le degré d'adéquation entre le modèle linéaire et les données, 1 voulant dire que le modèle capture 100% des variations. \n"
   ]
  },
  {
   "cell_type": "code",
   "execution_count": 29,
   "metadata": {
    "collapsed": false
   },
   "outputs": [
    {
     "data": {
      "text/plain": [
       "-0.024667582940640385"
      ]
     },
     "execution_count": 29,
     "metadata": {},
     "output_type": "execute_result"
    }
   ],
   "source": [
    "r_value"
   ]
  },
  {
   "cell_type": "markdown",
   "metadata": {},
   "source": [
    "Pour en savoir, google est votre ami, mais cette vidéo peut également être utile"
   ]
  },
  {
   "cell_type": "code",
   "execution_count": 1,
   "metadata": {
    "collapsed": false
   },
   "outputs": [
    {
     "data": {
      "text/html": [
       "\n",
       "        <iframe\n",
       "            width=\"400\"\n",
       "            height=\"300\"\n",
       "            src=\"https://www.youtube.com/embed/lng4ZgConCM\"\n",
       "            frameborder=\"0\"\n",
       "            allowfullscreen\n",
       "        ></iframe>\n",
       "        "
      ],
      "text/plain": [
       "<IPython.lib.display.YouTubeVideo at 0xb30c0c0c>"
      ]
     },
     "execution_count": 1,
     "metadata": {},
     "output_type": "execute_result"
    }
   ],
   "source": [
    "from IPython.display import YouTubeVideo\n",
    "YouTubeVideo(\"lng4ZgConCM\")"
   ]
  },
  {
   "cell_type": "markdown",
   "metadata": {},
   "source": [
    "Il est également commun de faire un test statistique sur le résultat de la régression, avec comme hypothèse que les coefficients sont nuls.\n",
    "\n",
    "La valeur p est la probabilité que la variable slope ait la valeur déduite des observations si ces dernières sont le résultat de l'hypothèse nulle, soit ici qu'il n'y ait pas de dépendance linéaire. \n",
    "\n",
    "On constate dans notre cas que celle-ci est très faible, et on peut donc rejeter l'hypothèse nulle.\n",
    "\n",
    "Généralement, une valeur critique pour p est 0.05."
   ]
  },
  {
   "cell_type": "code",
   "execution_count": 25,
   "metadata": {
    "collapsed": false
   },
   "outputs": [
    {
     "data": {
      "text/plain": [
       "2.7007421444658982e-16"
      ]
     },
     "execution_count": 25,
     "metadata": {},
     "output_type": "execute_result"
    }
   ],
   "source": [
    "p_value"
   ]
  },
  {
   "cell_type": "markdown",
   "metadata": {},
   "source": [
    "Que se passe-t-il si on les erreurs deviennent très importantes ? "
   ]
  },
  {
   "cell_type": "markdown",
   "metadata": {},
   "source": [
    "Numpy et Scipy sont des bilbiothèques dédiées à l'analyse numérique, et à la manipulation de vecteurs et de matrices, ainsi que la résolution de problèmes liés.\n",
    "\n",
    "Des bibliothèques plus haut niveau (qui reposent notamment sur Numpy), sont plus spécialement dédiées à l'analyse et au mining de données.\n",
    "\n",
    "* [statsmodel](http://statsmodels.sourceforge.net/), qui est orienté analyse statistique\n",
    "* [scikit-learn](http://scikit-learn.org/stable/), qui est une bibliothèque de machine learning"
   ]
  },
  {
   "cell_type": "markdown",
   "metadata": {},
   "source": [
    "## Résolution analytique pour les coefficients de la régression linéaire\n",
    "\n",
    "$$\\hat  \\theta_1 = \\frac{\\sum(x_i-\\bar x)(y_i-\\bar y)}{\\sum (x_i - \\bar x)^2} = \\frac{cov(x,y)}{var(x)}$$\n",
    "$$\\hat \\theta_0 = \\bar y - \\hat \\theta_1 \\bar x$$"
   ]
  },
  {
   "cell_type": "code",
   "execution_count": null,
   "metadata": {
    "collapsed": true
   },
   "outputs": [],
   "source": [
    "def moyenne(x):\n",
    "    pass\n",
    "\n",
    "def produit_scalaire(x,y):\n",
    "    pass\n",
    "\n",
    "def variance(x):\n",
    "    pass \n",
    "\n",
    "def covariance(x,y):\n",
    "    pass \n",
    "    \n",
    "def linear_parameters(x,y):\n",
    "    pass "
   ]
  }
 ],
 "metadata": {
  "kernelspec": {
   "display_name": "Python 2",
   "language": "python",
   "name": "python2"
  },
  "language_info": {
   "codemirror_mode": {
    "name": "ipython",
    "version": 2
   },
   "file_extension": ".py",
   "mimetype": "text/x-python",
   "name": "python",
   "nbconvert_exporter": "python",
   "pygments_lexer": "ipython2",
   "version": "2.7.11"
  }
 },
 "nbformat": 4,
 "nbformat_minor": 0
}
