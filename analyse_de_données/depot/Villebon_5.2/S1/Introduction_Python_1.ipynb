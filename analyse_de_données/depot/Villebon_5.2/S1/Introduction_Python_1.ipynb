{
 "cells": [
  {
   "cell_type": "markdown",
   "metadata": {},
   "source": [
    " <a id='bottom'></a>\n",
    " <h1 align=\"center\">Introduction à Python, 1ème partie : généralités</h1> "
   ]
  },
  {
   "cell_type": "markdown",
   "metadata": {},
   "source": [
    "<u>Sommaire :</u>\n",
    "\n",
    "1. <a href='#sec1'>Introduction : la programmation scientifique</a>\n",
    "2. <a href='#sec2'>Pourquoi Python ?</a>\n",
    "3. <a href='#sec3'>Le shell IPython</a>\n",
    "4. <a href='#sec4'>Elaborer un algorithme Python</a>\n",
    "5. <a href='#sec5'>Types de données</a>\n",
    "6. <a href='#sec6'>Conteneurs d'objets standard</a>\n",
    "7. <a href='#sec7'>Les dictionnaires</a>\n",
    "8. <a href='#sec8'>Tests et boucles</a>\n",
    "9. <a href='#sec9'>Liens</a>"
   ]
  },
  {
   "cell_type": "markdown",
   "metadata": {},
   "source": [
    "# <a id='sec1'></a> Introduction : la programmation scientifique"
   ]
  },
  {
   "cell_type": "markdown",
   "metadata": {},
   "source": [
    "La programmation scientifique est l'utilisation de l'informatique et des langages de programmation pour **résoudre un problème numérique** : résolution de problèmes mathématiques, modélisation d'équations, automatisation, optimiation... Pour ce qui concerne l'utilisation des données, elle consiste en l'**étude statistique** d'un lot de données pour faire ressortir les relations pouvant exister entre elles. Une étape suivante peut être de comparer le résultat de cette étude avec un modèle théorique. <br>\n",
    "Il faut donc pouvoir utiliser des scalaires, des vecteurs, des matrices et les manipuler à l'aide d'outils mathématiques connus (produit, transposé, extremum...)."
   ]
  },
  {
   "cell_type": "markdown",
   "metadata": {},
   "source": [
    "<a href='#bottom'> <h3 align=\"right\"> Haut $\\uparrow$ </h3> </a>\n",
    "\n",
    "# <a id='sec2'></a> Pourquoi [Python](http://www.python.org) ?\n",
    "\n",
    "- **Généraliste** : nombreux domaines d’application (calcul scientifique, administration système, développement web...)\n",
    "- **Multi paradigme** : un paradigme est un ensemble de règles grammaticales et d'outils permettant au développeur de décrire des algorithmes. Exemples de paradigmes applicables à Python : impératif (la structure du code est découpée en procédures, souvent appelées fonctions, qui peuvent s'appeler entre elles), fonctionnel (imbrication de fonctions), orienté objet.\n",
    "- **Langage de haut niveau** : gestion mémoire automatique, contrairement au langage C.\n",
    "- Très grande bibliothèque standard dont plusieurs **bibliothèques scientifiques** : SciPy, NumPy, Matplotlib... C'est un langage qui peut interagir avec d'autres langages, avec des dases de données (SQL), des fichiers de données (documents ascii, cvs, xml, images...).\n",
    "- Syntaxe orientée sur la **lisibilité du code** : claire, aérée, concise.\n",
    "- **Plusieurs contextes d’utilisation** : Interface interactive (shell) > scripts > programmes > bibliothèques (modules).\n",
    "- Gratuit, open-source avec une grande communauté (beaucoup de documentation en ligne anglophone ou francophone (http://python.developpez.com/, http://www.afpy.org/, http://stackoverflow.com/).\n",
    "\n",
    "Philosophie : [*Zen of Python*](http://www.python.org/dev/peps/pep-0020)\n",
    "1. Beautiful is better than ugly.\n",
    "2. Explicit is better than implicit.\n",
    "3. Simple is better than complex.\n",
    "4. Complex is better than complicated. <br>\n",
    "...\n",
    "\n",
    "Historique <br> \n",
    "- Créé par Guido Van Rossum au début des années 90, le nom de \"Python\" est donné en l'honneur des Monty Python. <br>\n",
    "- Aujourd'hui deux version de ce langage co-existent : <br>\n",
    "    * python 2.7 : dernière version de la série des 2.x, encore la plus utilisée (également pour ce cours ?) ;\n",
    "    * python 3.x : nouvelle version, activement en développement et qui sert à corriger certaines erreurs de design.\n"
   ]
  },
  {
   "cell_type": "markdown",
   "metadata": {},
   "source": [
    "<a href='#bottom'> <h3 align=\"right\"> Haut $\\uparrow$ </h3> </a>\n",
    "\n",
    "# <a id='sec3'></a> Le shell [IPython](http://ipython.org/)\n",
    "\n",
    " $\\Rightarrow$ terminal interactif amélioré : autocomplétion (avec `TAB`), historique des commandes lancées (avec `UP`), exécution des commandes shell (`ls`, `cd`...).\n",
    "\n",
    "Pour le lancer, il suffit de taper `ipython` dans un terminal. \n",
    "\n",
    "- Demander à afficher \"Hello world\"."
   ]
  },
  {
   "cell_type": "code",
   "execution_count": null,
   "metadata": {
    "collapsed": false
   },
   "outputs": [],
   "source": [
    "print 'Hello world'"
   ]
  },
  {
   "cell_type": "markdown",
   "metadata": {},
   "source": [
    "Remarque : en Python 3, il faut utiliser la syntaxe `print('Hello world')`.\n",
    "\n",
    "- Obtenir de l'aide (surtout utile pour des fonctions, si ces dernières sont bien documentées) :"
   ]
  },
  {
   "cell_type": "code",
   "execution_count": null,
   "metadata": {
    "collapsed": false
   },
   "outputs": [],
   "source": [
    "texte = 'Hello world'\n",
    "texte?"
   ]
  },
  {
   "cell_type": "markdown",
   "metadata": {},
   "source": [
    "- Connaitre le temps d'exécution d'un code avec `timeit` :"
   ]
  },
  {
   "cell_type": "code",
   "execution_count": null,
   "metadata": {
    "collapsed": false
   },
   "outputs": [],
   "source": [
    "timeit(1 + 2)"
   ]
  },
  {
   "cell_type": "markdown",
   "metadata": {},
   "source": [
    "Pour fermer le shell IPython, taper **`ctrl+D`** ou **`exit()`**."
   ]
  },
  {
   "cell_type": "markdown",
   "metadata": {},
   "source": [
    "<a href='#bottom'> <h3 align=\"right\"> Haut $\\uparrow$ </h3> </a>\n",
    "# <a id='sec4'></a> Elaborer un algorithme Python\n",
    "\n",
    "**Exercice 1**\n",
    "\n",
    "Créez un dossier pour le cours (par exemple *UE5.2-Python*) puis un sous-dossier (*exercice1*).\n",
    "\n",
    "Créez un fichier (*test1.py*) avec votre éditeur de texte préféré (emacs, vi, gedit...)."
   ]
  },
  {
   "cell_type": "raw",
   "metadata": {},
   "source": [
    "# Mon premier script Python\n",
    "s = 'Hello world'\n",
    "print s"
   ]
  },
  {
   "cell_type": "markdown",
   "metadata": {},
   "source": [
    "Pour le lancer, il suffit de taper : <br>"
   ]
  },
  {
   "cell_type": "raw",
   "metadata": {},
   "source": [
    "python test1.py"
   ]
  },
  {
   "cell_type": "markdown",
   "metadata": {},
   "source": [
    "Et voilà, vous avez créé et lancé votre 1er programme Python ! Il n'y a pas d'étape de compilation."
   ]
  },
  {
   "cell_type": "markdown",
   "metadata": {},
   "source": [
    "<a href='#bottom'> <h3 align=\"right\"> Haut $\\uparrow$ </h3> </a>\n",
    "# <a id='sec5'></a> Types de données\n",
    "\n",
    "Les opérateurs classiques pour le calcul sont utilisables avec Python : +, -, \\*, \\*\\* (exposant), /, % (modulo, reste de la division euclidienne)."
   ]
  },
  {
   "cell_type": "markdown",
   "metadata": {},
   "source": [
    "**Entiers** (*integer*) :"
   ]
  },
  {
   "cell_type": "code",
   "execution_count": null,
   "metadata": {
    "collapsed": false
   },
   "outputs": [],
   "source": [
    "1 + 1"
   ]
  },
  {
   "cell_type": "code",
   "execution_count": null,
   "metadata": {
    "collapsed": false
   },
   "outputs": [],
   "source": [
    "a = 4\n",
    "print type(a)"
   ]
  },
  {
   "cell_type": "markdown",
   "metadata": {},
   "source": [
    "**Flottants**, nombre en virgule flottante (*float*) :"
   ]
  },
  {
   "cell_type": "code",
   "execution_count": null,
   "metadata": {
    "collapsed": false
   },
   "outputs": [],
   "source": [
    "b = 4.\n",
    "print type(b)"
   ]
  },
  {
   "cell_type": "markdown",
   "metadata": {},
   "source": [
    "Remarque 1 : testez la différence entre `\"print 1/2\"` et `\"print 1./2.\"` <br>\n",
    "Remarque 2 : la conversion d'un entrier en un flottant se fait avec `float(1)`, et d'un flottant en un entier avec `int(1.5)`."
   ]
  },
  {
   "cell_type": "markdown",
   "metadata": {},
   "source": [
    "**Nombres complexes** (*complex*) :"
   ]
  },
  {
   "cell_type": "code",
   "execution_count": null,
   "metadata": {
    "collapsed": false
   },
   "outputs": [],
   "source": [
    "c = 1.5 + 0.5j\n",
    "print type(c)"
   ]
  },
  {
   "cell_type": "code",
   "execution_count": null,
   "metadata": {
    "collapsed": false
   },
   "outputs": [],
   "source": [
    "print \"Real part :\", c.real, \" ; Imaginary part :\", c.imag"
   ]
  },
  {
   "cell_type": "markdown",
   "metadata": {},
   "source": [
    "**Booléen**, variable à deux états \"vrai\" ou \"faux\" (*Booleans*) :"
   ]
  },
  {
   "cell_type": "code",
   "execution_count": null,
   "metadata": {
    "collapsed": false
   },
   "outputs": [],
   "source": [
    "3 > 4"
   ]
  },
  {
   "cell_type": "code",
   "execution_count": null,
   "metadata": {
    "collapsed": false
   },
   "outputs": [],
   "source": [
    "test = (3 > 4)\n",
    "print test"
   ]
  },
  {
   "cell_type": "code",
   "execution_count": null,
   "metadata": {
    "collapsed": false
   },
   "outputs": [],
   "source": [
    "type(test)"
   ]
  },
  {
   "cell_type": "markdown",
   "metadata": {},
   "source": [
    "Les **opérateurs de comparaison** permettent d'obtenir un booléen : \n",
    "- `==` (strictement égale à) ; \n",
    "- `!=` (différent de) ; \n",
    "- `>`  (strictement supérieur à) ; \n",
    "- `<`  (strictement inférieur à) ; \n",
    "- `>=` (supérieur ou égale à) ; \n",
    "- `<=` (inférieur ou égale à)."
   ]
  },
  {
   "cell_type": "markdown",
   "metadata": {},
   "source": [
    "**Problèmes et limites des nombres flottants**"
   ]
  },
  {
   "cell_type": "code",
   "execution_count": null,
   "metadata": {
    "collapsed": false
   },
   "outputs": [],
   "source": [
    "d = 0.1 + 0.1 + 0.1 - 0.3\n",
    "print d"
   ]
  },
  {
   "cell_type": "markdown",
   "metadata": {},
   "source": [
    "Les ordinateurs représentent tout en base 2 => la valeur stockée est une approximation de la fraction décimale d'origine. Pour régler le problème, on peut utiliser le module `decimal` (nous reviendrons plus tard sur la définition d'un module) : "
   ]
  },
  {
   "cell_type": "code",
   "execution_count": null,
   "metadata": {
    "collapsed": false
   },
   "outputs": [],
   "source": [
    "from decimal import Decimal #importation de la fonction Decimal provenant du module decimal\n",
    "print Decimal(\"0.10\") + Decimal(\"0.1\") + Decimal(\"0.1\") - Decimal(\"0.3\")"
   ]
  },
  {
   "cell_type": "markdown",
   "metadata": {},
   "source": [
    "Remarque : `Decimal(0.1)` (sans de guillemets autour du nombre) donne la valeur exacte stockée pour n’importe quel flottant. <br>\n",
    "Pour plus de détails sur les nombres à virgule floatante et leurs limites : http://www.afpy.org/doc/python/2.7/tutorial/floatingpoint.html"
   ]
  },
  {
   "cell_type": "markdown",
   "metadata": {},
   "source": [
    "**Arrondis**"
   ]
  },
  {
   "cell_type": "code",
   "execution_count": null,
   "metadata": {
    "collapsed": false
   },
   "outputs": [],
   "source": [
    "e = 15.35478963\n",
    "print round(e,3)"
   ]
  },
  {
   "cell_type": "code",
   "execution_count": null,
   "metadata": {
    "collapsed": false
   },
   "outputs": [],
   "source": [
    "print round(e)"
   ]
  },
  {
   "cell_type": "markdown",
   "metadata": {},
   "source": [
    "**Chaines de caractères** (*string*) :\n",
    "\n",
    "Une chaine de caractères est une collection ordonnées de caractères. Elle apparaît entre guillemets ou entre apostrophes. Elle peut également se trouver entre trois guillemets (\"\"\") si elle s'étend sur plusieurs lignes (documentation de scritps).\n",
    "\n",
    "Est immuable, c'est à dire qu'elle ne paut pas être modifiée : "
   ]
  },
  {
   "cell_type": "code",
   "execution_count": null,
   "metadata": {
    "collapsed": false
   },
   "outputs": [],
   "source": [
    "t = \"exemple\"\n",
    "t[2] = \"a\""
   ]
  },
  {
   "cell_type": "code",
   "execution_count": null,
   "metadata": {
    "collapsed": false
   },
   "outputs": [],
   "source": [
    "print t[3:6] # De l'element n°3 (inclus) au n°6 (exclu), soit 6-3 = 3 elements"
   ]
  },
  {
   "cell_type": "markdown",
   "metadata": {},
   "source": [
    "Mais on peut manipuler des chaines de la même manière que les nombres :"
   ]
  },
  {
   "cell_type": "code",
   "execution_count": null,
   "metadata": {
    "collapsed": false
   },
   "outputs": [],
   "source": [
    "s = \"mon \"\n",
    "print s+t"
   ]
  },
  {
   "cell_type": "markdown",
   "metadata": {},
   "source": [
    "Taille de la chaine de caractère : "
   ]
  },
  {
   "cell_type": "code",
   "execution_count": null,
   "metadata": {
    "collapsed": false
   },
   "outputs": [],
   "source": [
    "len(t)"
   ]
  },
  {
   "cell_type": "markdown",
   "metadata": {},
   "source": [
    "Les chaînes de caractères disposent de nombreuses fonctionnalités – appelées \"méthodes\" – facilitant leur manipulation :"
   ]
  },
  {
   "cell_type": "code",
   "execution_count": null,
   "metadata": {
    "collapsed": false
   },
   "outputs": [],
   "source": [
    "enfant, peluche = \"Calvin\", 'Hobbes'      # Affectation mutiple"
   ]
  },
  {
   "cell_type": "code",
   "execution_count": null,
   "metadata": {
    "collapsed": false
   },
   "outputs": [],
   "source": [
    "titre = enfant + ' et ' + peluche; titre  # + : concaténation de chaînes"
   ]
  },
  {
   "cell_type": "code",
   "execution_count": null,
   "metadata": {
    "collapsed": false
   },
   "outputs": [],
   "source": [
    "titre.replace('et', '&')       # Remplacement de sous-chaînes"
   ]
  },
  {
   "cell_type": "code",
   "execution_count": null,
   "metadata": {
    "collapsed": false
   },
   "outputs": [],
   "source": [
    "'Hobbes' in titre              # in : test d'inclusion"
   ]
  },
  {
   "cell_type": "code",
   "execution_count": null,
   "metadata": {
    "collapsed": false
   },
   "outputs": [],
   "source": [
    "titre.find(\"Hobbes\")           # str.find : recherche de sous-chaîne"
   ]
  },
  {
   "cell_type": "code",
   "execution_count": null,
   "metadata": {
    "collapsed": false
   },
   "outputs": [],
   "source": [
    "titre.center(30, '-')"
   ]
  },
  {
   "cell_type": "code",
   "execution_count": null,
   "metadata": {
    "collapsed": false
   },
   "outputs": [],
   "source": [
    "help(titre.center)"
   ]
  },
  {
   "cell_type": "markdown",
   "metadata": {},
   "source": [
    "<a href='#bottom'> <h3 align=\"right\"> Haut $\\uparrow$ </h3> </a>\n",
    "# <a id='sec6'></a> Conteneurs d'objets standards\n",
    "\n",
    "De façon générale, un conteneur est un objet composite destiné à contenir d'autres objets placés dans un certain ordre. On en distingue deux types : les modifiables (ou mutables), les listes, et les non modifiables, les n-uplets ou *tuple* en anglais.\n",
    "\n",
    "**Les listes**\n",
    "\n",
    "Type de conteneur le plus utilisé en python.\n",
    "- Les éléments sont ordonnés (de gauche à droite en commençant par l'indice 0) et éventuellement hétérogènes (i.e. peut contenir des entiers *et* des chaînes de caractères par exemple).\n",
    "- Une liste peut être modifiée (modification de la taille, des valeurs).\n",
    "- Une liste peut être encapsulée (liste de listes).\n",
    "- Syntaxe : éléments séparés par des virgules et entourés de crochets []."
   ]
  },
  {
   "cell_type": "code",
   "execution_count": null,
   "metadata": {
    "collapsed": false
   },
   "outputs": [],
   "source": [
    "li = [1., 2, 3., \"soleil\"]\n",
    "print li"
   ]
  },
  {
   "cell_type": "markdown",
   "metadata": {},
   "source": [
    "Attention rappel : le 1er indice commence à 0 ! Et pour avoir la dernière valeur, l'indice est \"-1\"."
   ]
  },
  {
   "cell_type": "code",
   "execution_count": null,
   "metadata": {
    "collapsed": false
   },
   "outputs": [],
   "source": [
    "print li[0], li[-1]"
   ]
  },
  {
   "cell_type": "markdown",
   "metadata": {},
   "source": [
    "Ajout d'un nouvel élément à la fin de la liste :"
   ]
  },
  {
   "cell_type": "code",
   "execution_count": null,
   "metadata": {
    "collapsed": false
   },
   "outputs": [],
   "source": [
    "li.append([\"a\", \"b\"])\n",
    "print li"
   ]
  },
  {
   "cell_type": "markdown",
   "metadata": {},
   "source": [
    "<u>Remarque</u> : \"`.append`\" fait appel à une **méthode** des listes, en l'occurence ici la méthode qui permet d'ajouter un nouvel élément à la fin de la liste. Pour voir toutes les méthodes associées à un objets, il faut utiliser `dir`. Les méthodes entourées de part et d'autre de deux underscores (`__`) sont des méthodes spéciales (méthodes d'instance que Python reconnaît et sait utiliser)."
   ]
  },
  {
   "cell_type": "code",
   "execution_count": null,
   "metadata": {
    "collapsed": false
   },
   "outputs": [],
   "source": [
    "print dir(li)"
   ]
  },
  {
   "cell_type": "markdown",
   "metadata": {},
   "source": [
    "**Exercice 2** \n",
    "\n",
    "A partir de la liste `nombres = [17, 38, 10, 25, 72]`, utilisez les méthodes suivantes et comprenez leurs effets : \n",
    "\n",
    "`nombres.sort()` </br> \n",
    "`nombres.append(12)` </br> \n",
    "`nombres.reverse()` </br> \n",
    "`nombres.remove(38)` </br> \n",
    "`nombres.index(17)` </br> \n",
    "`nombres[0] = 11` </br> \n",
    "`nombres[1:3] = [14, 17, 2]` </br> \n",
    "`nombres.pop()` </br> \n",
    "`nombres.count(17)` </br> \n",
    "`nombres.extend([1, 2, 3])`"
   ]
  },
  {
   "cell_type": "markdown",
   "metadata": {},
   "source": [
    "**Les tuples**\n",
    "\n",
    "Collection ordonnée et *non modifiable* (comme les chaînes de caractères) d'éléments éventuellement hétérogènes.\n",
    "\n",
    "- Les tuples s'utilisent comme les listes mais leur parcours est plus rapide.\n",
    "- Ils consomment moins de mémoire.\n",
    "- Ils sont utiles pour définir des constance : c'est une sécurité car les tuples sont non modifiables.\n",
    "- Syntaxe : éléments séparés par des virgules et entourées de parenthèses ()."
   ]
  },
  {
   "cell_type": "code",
   "execution_count": null,
   "metadata": {
    "collapsed": false
   },
   "outputs": [],
   "source": [
    "tup = (\"a\", \"b\", \"mpilgrim\", \"z\", \"example\")\n",
    "print tup"
   ]
  },
  {
   "cell_type": "code",
   "execution_count": null,
   "metadata": {
    "collapsed": false
   },
   "outputs": [],
   "source": [
    "tup[1:3]"
   ]
  },
  {
   "cell_type": "markdown",
   "metadata": {},
   "source": [
    "Attention ! Les tuples n'ont pas la plupart des méthodes qu'ont les listes pour les modifier (rappel : les tuple sont non modifiables). Par exemple :"
   ]
  },
  {
   "cell_type": "code",
   "execution_count": null,
   "metadata": {
    "collapsed": false
   },
   "outputs": [],
   "source": [
    "tup.append(\"new\")"
   ]
  },
  {
   "cell_type": "code",
   "execution_count": null,
   "metadata": {
    "collapsed": false
   },
   "outputs": [],
   "source": [
    "tup.remove(\"z\")"
   ]
  },
  {
   "cell_type": "markdown",
   "metadata": {},
   "source": [
    "Remarque : on peut transformer un tuple en liste avec `list(tup)` et inversement avec `tuple(li)`."
   ]
  },
  {
   "cell_type": "markdown",
   "metadata": {},
   "source": [
    "<a href='#bottom'> <h3 align=\"right\"> Haut $\\uparrow$ </h3> </a>\n",
    "# <a id='sec7'></a> Les dictionnaires\n",
    "\n",
    "Au contraire d'une liste qui héberge des informations dans un ordre précis, un dictionnaire est une collection non ordonnée dont chaque entrée (appelée **valeur**) est assignée par une **clé**. Par exemple, un dictionnaire peut contenir un carnet d'adresses (valeur) et on accède à chaque contact en précisant son nom (clé). </br>\n",
    "Syntaxe :  `{clé: valeur}`."
   ]
  },
  {
   "cell_type": "code",
   "execution_count": null,
   "metadata": {
    "collapsed": false
   },
   "outputs": [],
   "source": [
    "dic = {} #dictionnaire vide\n",
    "dic[\"cle\"] = \"valeur\" #associe a cle1 la valeur1\n",
    "dic[\"students\"] = 32\n",
    "print dic"
   ]
  },
  {
   "cell_type": "code",
   "execution_count": null,
   "metadata": {
    "collapsed": false
   },
   "outputs": [],
   "source": [
    "print \"clefs : \", dic.keys(), \" ; valeurs : \", dic.values()"
   ]
  },
  {
   "cell_type": "markdown",
   "metadata": {},
   "source": [
    "Remarquez, grâce à `print dic`, que les éléments du dictionnaire ne sont effectivement pas ordonnés. Pour avoir une relation d'ordre dans le dictionnaire (en fonction de l'ordre dans lequel les éléments sont insérés) :"
   ]
  },
  {
   "cell_type": "code",
   "execution_count": null,
   "metadata": {
    "collapsed": false
   },
   "outputs": [],
   "source": [
    "from collections import OrderedDict\n",
    "dic2 = OrderedDict()\n",
    "print dic2"
   ]
  },
  {
   "cell_type": "code",
   "execution_count": null,
   "metadata": {
    "collapsed": false
   },
   "outputs": [],
   "source": [
    "dic2[1] = \"01\"\n",
    "dic2[4] = \"04\"\n",
    "dic2[9] = \"09\"\n",
    "dic2[0] = \"00\"\n",
    "print dic2"
   ]
  },
  {
   "cell_type": "markdown",
   "metadata": {},
   "source": [
    "<a href='#bottom'> <h3 align=\"right\"> Haut $\\uparrow$ </h3> </a>\n",
    "# <a id='sec8'></a> Tests et boucles\n",
    "\n",
    "Les blocs de codes sont définits par deux points (**:**) suivi d'une **indentation** fixe.\n",
    "\n",
    "<font color=\"red\">Remarque</font> : l'indentation est très importante en Python ! De plus, elle rend le code plus lisible.\n",
    "\n",
    "**Tests (*if:  elif:  else:*)**\n",
    "\n",
    "$\\Rightarrow$ permet d'exécuter telle ou telle insctruction selon la valeur d'une condition (*if*) voire de plusieurs conditions à la suite (*elif* pour \"sinon si\" et *else* pour \"sinon\")."
   ]
  },
  {
   "cell_type": "code",
   "execution_count": null,
   "metadata": {
    "collapsed": false
   },
   "outputs": [],
   "source": [
    "a = 2\n",
    "if a > 0 :\n",
    "    b = 1\n",
    "elif a == 0 :\n",
    "    b = 0\n",
    "else :\n",
    "    b = -1\n",
    "\n",
    "print \"Comme a vaut : \", a, \" alors b vaut : \", b"
   ]
  },
  {
   "cell_type": "markdown",
   "metadata": {},
   "source": [
    "**Boucle (while *condition*:)**\n",
    "\n",
    "Un premier type de boucles est la boucle while : elle continue tant qu'une condition est vraie."
   ]
  },
  {
   "cell_type": "code",
   "execution_count": null,
   "metadata": {
    "collapsed": false
   },
   "outputs": [],
   "source": [
    "c = 0\n",
    "while c <= 4 :\n",
    "    c += 1\n",
    "print \"Valeur finale de c : \", c"
   ]
  },
  {
   "cell_type": "markdown",
   "metadata": {},
   "source": [
    "**Boucle (for *var* in *set*)**\n",
    "\n",
    "Le deuxième type de boucles est la boucle *for* : elle permet de parcourir un ensemble. Une fonction utile lors de l'utilisation d'une boucle *for* est la fonction ***range*** qui permet de créer une liste d'entiers :"
   ]
  },
  {
   "cell_type": "code",
   "execution_count": null,
   "metadata": {
    "collapsed": false
   },
   "outputs": [],
   "source": [
    "range(4)"
   ]
  },
  {
   "cell_type": "code",
   "execution_count": null,
   "metadata": {
    "collapsed": false
   },
   "outputs": [],
   "source": [
    "n = 4\n",
    "\n",
    "for i in range(n) :             # parcourt tous les entiers de 0 à n-1 inclus.\n",
    "    print \"Avec la fonction range : \", i\n",
    "\n",
    "for i in xrange(n) :            # même chose mais en plus rapide.\n",
    "    print \"Avec la fonction xrange : \", i\n",
    "# Remarque en Python 3.x : la fonction xrange n’existe plus, et range équivaut à xrange.\n",
    "\n",
    "for i in range(n,0,-1) :          # parcourt tous les entiers de n à 1 inclus dans le sens décroissant.\n",
    "    print \"Sens decroissant : \", i"
   ]
  },
  {
   "cell_type": "markdown",
   "metadata": {},
   "source": [
    "On peut itérer sur une liste, un tuple, un dictionnaire..."
   ]
  },
  {
   "cell_type": "markdown",
   "metadata": {},
   "source": [
    "**Comment choisir entre boucle *for* et boucle *while* ?**\n",
    "\n",
    "En général, si on connaît avant de démarrer la boucle le nombre d’itérations à exécuter, on choisit une boucle *for*. Au contraire, si la décision d’arrêter la boucle ne peut se faire que par un test, on choisit une boucle *while*."
   ]
  },
  {
   "cell_type": "markdown",
   "metadata": {},
   "source": [
    "<a href='#bottom'> <h3 align=\"right\"> Haut $\\uparrow$ </h3> </a>\n",
    "# <a id='sec9'></a> Quelques liens complémentaires\n",
    "\n",
    "- Les nombres en Python : http://sametmax.com/les-nombres-en-python/\n",
    "- Les conteneurs standard : http://docs.ecreall.com/developpeur/python/conteneurs_standard.html\n",
    "- Livre de référence sur Python en général : http://www.diveintopython.net/"
   ]
  },
  {
   "cell_type": "markdown",
   "metadata": {},
   "source": [
    "<a href='#bottom'> <h3 align=\"right\"> Haut $\\uparrow$ </h3> </a>"
   ]
  }
 ],
 "metadata": {
  "kernelspec": {
   "display_name": "Python [Root]",
   "language": "python",
   "name": "Python [Root]"
  },
  "language_info": {
   "codemirror_mode": {
    "name": "ipython",
    "version": 2
   },
   "file_extension": ".py",
   "mimetype": "text/x-python",
   "name": "python",
   "nbconvert_exporter": "python",
   "pygments_lexer": "ipython2",
   "version": "2.7.12"
  }
 },
 "nbformat": 4,
 "nbformat_minor": 0
}
