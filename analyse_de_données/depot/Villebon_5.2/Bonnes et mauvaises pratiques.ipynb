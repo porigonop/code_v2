{
 "cells": [
  {
   "cell_type": "markdown",
   "metadata": {},
   "source": [
    "Ce notebook va regrouper quelques bonnes et mauvaises pratiques afin de vous éviter de refaire les mêmes erreurs et de bloquer sur des points de détails. \n",
    "\n",
    "**Ce notebook sera mis à jour au fur et à mesure des erreurs rencontrées.**"
   ]
  },
  {
   "cell_type": "markdown",
   "metadata": {},
   "source": [
    "## Boucles"
   ]
  },
  {
   "cell_type": "markdown",
   "metadata": {},
   "source": [
    "### Bien comprendre la fonction range"
   ]
  },
  {
   "cell_type": "code",
   "execution_count": 20,
   "metadata": {
    "collapsed": false
   },
   "outputs": [
    {
     "name": "stdout",
     "output_type": "stream",
     "text": [
      "range(stop) -> list of integers\n",
      "range(start, stop[, step]) -> list of integers\n",
      "\n",
      "Return a list containing an arithmetic progression of integers.\n",
      "range(i, j) returns [i, i+1, i+2, ..., j-1]; start (!) defaults to 0.\n",
      "When step is given, it specifies the increment (or decrement).\n",
      "For example, range(4) returns [0, 1, 2, 3].  The end point is omitted!\n",
      "These are exactly the valid indices for a list of 4 elements.\n"
     ]
    }
   ],
   "source": [
    "print range.__doc__"
   ]
  },
  {
   "cell_type": "markdown",
   "metadata": {},
   "source": [
    "`range(N)` renvoie **une liste** de taille N, allant de **0 à N-1.**"
   ]
  },
  {
   "cell_type": "code",
   "execution_count": 21,
   "metadata": {
    "collapsed": false
   },
   "outputs": [
    {
     "data": {
      "text/plain": [
       "[0, 1, 2, 3, 4, 5, 6, 7, 8, 9]"
      ]
     },
     "execution_count": 21,
     "metadata": {},
     "output_type": "execute_result"
    }
   ],
   "source": [
    "range(10)"
   ]
  },
  {
   "cell_type": "markdown",
   "metadata": {},
   "source": [
    "### Itérer sur un itérable\n",
    "\n",
    "un **iterable** est une structure de données qui permet, comme son nom l'indique, d'itérer sur ses élements, dans un boucle par exemple. Les `list`, `tuples`, etc sont des iterables et la syntaxe suivante s'applique pour itérer sur leurs éléments\n",
    "\n",
    "`for element in iterable:`"
   ]
  },
  {
   "cell_type": "code",
   "execution_count": 13,
   "metadata": {
    "collapsed": false
   },
   "outputs": [
    {
     "name": "stdout",
     "output_type": "stream",
     "text": [
      "a\n",
      "b\n",
      "c\n",
      "d\n"
     ]
    }
   ],
   "source": [
    "letters = list(\"abcd\") # ['a', 'b', 'c', 'd']\n",
    "for letter in letters:\n",
    "    print letter"
   ]
  },
  {
   "cell_type": "markdown",
   "metadata": {},
   "source": [
    "La version compréhension de liste : `[letter for letter in letters]`\n",
    "\n",
    "**Attention la compréhestion de liste retourne une liste, alors que le print ne retourne rien du tout**"
   ]
  },
  {
   "cell_type": "markdown",
   "metadata": {},
   "source": [
    "Attention à ne pas faire l'erreur suivante, qui surcharge la syntaxe sans raison :"
   ]
  },
  {
   "cell_type": "code",
   "execution_count": 15,
   "metadata": {
    "collapsed": false
   },
   "outputs": [
    {
     "name": "stdout",
     "output_type": "stream",
     "text": [
      "a\n",
      "b\n",
      "c\n",
      "d\n"
     ]
    }
   ],
   "source": [
    "for i in range(len(x)): # Ceci est une erreur !\n",
    "    print x[i]"
   ]
  },
  {
   "cell_type": "markdown",
   "metadata": {},
   "source": [
    "Parfois on souhaite avoir les indices associé aux éléments de la liste, la bonne pratique consiste alors à utiliser la fonction `enumerate`"
   ]
  },
  {
   "cell_type": "code",
   "execution_count": 6,
   "metadata": {
    "collapsed": false
   },
   "outputs": [
    {
     "name": "stdout",
     "output_type": "stream",
     "text": [
      "0 a\n",
      "1 b\n",
      "2 c\n",
      "3 d\n"
     ]
    }
   ],
   "source": [
    "for i, elem in enumerate(x):\n",
    "    print i, elem"
   ]
  },
  {
   "cell_type": "markdown",
   "metadata": {},
   "source": [
    "Notez que enumerate retourne un tuple de 2 éléments, le 1er étant l'indice et le 2nd l'élément de la liste correspondant"
   ]
  },
  {
   "cell_type": "code",
   "execution_count": 9,
   "metadata": {
    "collapsed": false
   },
   "outputs": [
    {
     "name": "stdout",
     "output_type": "stream",
     "text": [
      "enumerate(iterable[, start]) -> iterator for index, value of iterable\n",
      "\n",
      "Return an enumerate object.  iterable must be another object that supports\n",
      "iteration.  The enumerate object yields pairs containing a count (from\n",
      "start, which defaults to zero) and a value yielded by the iterable argument.\n",
      "enumerate is useful for obtaining an indexed list:\n",
      "    (0, seq[0]), (1, seq[1]), (2, seq[2]), ...\n"
     ]
    }
   ],
   "source": [
    "print enumerate.__doc__"
   ]
  },
  {
   "cell_type": "markdown",
   "metadata": {},
   "source": [
    "## Fonctions\n",
    "\n",
    "### il manque un `return`\n",
    "Une erreur très fréquente avec les fonction consiste à **remplacer le `return` par un `print`**. Ce dernier est généralement utilisé pour s'assurer que la fonction retourne les bonnes valeurs sur des cas particuliers."
   ]
  },
  {
   "cell_type": "code",
   "execution_count": 12,
   "metadata": {
    "collapsed": false
   },
   "outputs": [
    {
     "name": "stdout",
     "output_type": "stream",
     "text": [
      "appel hors fonction : 1\n",
      "1\n",
      "appel hors fonction : None\n"
     ]
    }
   ],
   "source": [
    "def func_OK(x):\n",
    "    return x\n",
    "\n",
    "def func_KO(x):\n",
    "    print x\n",
    "\n",
    "print 'appel hors fonction : '+str(func_OK(1))\n",
    "print 'appel hors fonction : '+str(func_KO(1))"
   ]
  },
  {
   "cell_type": "markdown",
   "metadata": {},
   "source": [
    "Notez que :\n",
    "\n",
    "* l'appel à la fonction `func_OK(1)` renvoie la bonne valeur qui est convertie en str\n",
    "* le deuxième 1 qui s'affiche est celui dans la fonction `func_KO(1)`\n",
    "* l'appel à la fonction `func_KO(1)`, à la troisième ligne, renvoie un None, parce que la fonction ne renvoie rien du tout (puisqu'il n'y a pas de `return`)"
   ]
  },
  {
   "cell_type": "markdown",
   "metadata": {},
   "source": [
    "### Définir les variables à l'intérieur de la fonction"
   ]
  },
  {
   "cell_type": "code",
   "execution_count": 16,
   "metadata": {
    "collapsed": true
   },
   "outputs": [],
   "source": [
    "def func_dummy(x):\n",
    "    x = 10\n",
    "    return x"
   ]
  },
  {
   "cell_type": "markdown",
   "metadata": {},
   "source": [
    "La fonction ci-dessus prend en argument la variable x, mais celle-ci est redéfinie dans le corps de la fonction ! Par conséquent la variable **est écrasée par une valeur fixe.**"
   ]
  },
  {
   "cell_type": "code",
   "execution_count": 17,
   "metadata": {
    "collapsed": false
   },
   "outputs": [
    {
     "ename": "AssertionError",
     "evalue": "",
     "output_type": "error",
     "traceback": [
      "\u001b[1;31m---------------------------------------------------------------------------\u001b[0m",
      "\u001b[1;31mAssertionError\u001b[0m                            Traceback (most recent call last)",
      "\u001b[1;32m<ipython-input-17-22178a9463da>\u001b[0m in \u001b[0;36m<module>\u001b[1;34m()\u001b[0m\n\u001b[1;32m----> 1\u001b[1;33m \u001b[1;32massert\u001b[0m \u001b[0mfunc_dummy\u001b[0m\u001b[1;33m(\u001b[0m\u001b[1;36m5\u001b[0m\u001b[1;33m)\u001b[0m \u001b[1;33m==\u001b[0m \u001b[1;36m5\u001b[0m\u001b[1;33m\u001b[0m\u001b[0m\n\u001b[0m",
      "\u001b[1;31mAssertionError\u001b[0m: "
     ]
    }
   ],
   "source": [
    "assert func_dummy(5) == 5"
   ]
  },
  {
   "cell_type": "code",
   "execution_count": 19,
   "metadata": {
    "collapsed": false
   },
   "outputs": [
    {
     "name": "stdout",
     "output_type": "stream",
     "text": [
      "10\n",
      "10\n",
      "10\n",
      "10\n",
      "10\n"
     ]
    }
   ],
   "source": [
    "for i in range(5):\n",
    "    print func_dummy(i)"
   ]
  },
  {
   "cell_type": "markdown",
   "metadata": {},
   "source": [
    "La fonction est bien évidemment toujours égale à 10 par définition"
   ]
  }
 ],
 "metadata": {
  "kernelspec": {
   "display_name": "Python 2",
   "language": "python",
   "name": "python2"
  },
  "language_info": {
   "codemirror_mode": {
    "name": "ipython",
    "version": 2
   },
   "file_extension": ".py",
   "mimetype": "text/x-python",
   "name": "python",
   "nbconvert_exporter": "python",
   "pygments_lexer": "ipython2",
   "version": "2.7.11"
  }
 },
 "nbformat": 4,
 "nbformat_minor": 0
}
